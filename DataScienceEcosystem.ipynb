{
  "metadata": {
    "kernelspec": {
      "name": "xpython",
      "display_name": "Python 3.13 (XPython)",
      "language": "python"
    },
    "language_info": {
      "file_extension": ".py",
      "mimetype": "text/x-python",
      "name": "python",
      "version": "3.13.1"
    }
  },
  "nbformat_minor": 5,
  "nbformat": 4,
  "cells": [
    {
      "id": "bc31789e-f2ee-4081-84ae-eec8549cd8d9",
      "cell_type": "markdown",
      "source": "# Data Science Tools and Ecosystem",
      "metadata": {}
    },
    {
      "id": "08ab0af7-d7b5-4c5d-9341-d1bec98a5c4f",
      "cell_type": "markdown",
      "source": "In this notebook, Data Science Tools and Ecosystem are summarized.",
      "metadata": {}
    },
    {
      "id": "2a75b61a-ca4a-4a1a-9dd5-994c6741126e",
      "cell_type": "markdown",
      "source": "Objectives:\n- List popular languages in Data Science\n- List commonly used libraries in data Science\n- Create a table of data science tools\n- Show some examples of arithmetic expressions in Python",
      "metadata": {}
    },
    {
      "id": "25aff96b-8e6c-49cf-a18f-52f4aef486ce",
      "cell_type": "markdown",
      "source": "Some of the popular languages that Data Scientists use are:\n1. Python\n2. SQL\n3. R\n4. C ++",
      "metadata": {}
    },
    {
      "id": "76248a61-1710-4eb2-b292-f2d44c6151d9",
      "cell_type": "markdown",
      "source": "Some of the commonly used libraries used by Data Scientists include:\n1. Pandas\n2. Numpy\n3. Matplotlib",
      "metadata": {}
    },
    {
      "id": "83b70893-34fc-48bc-92fb-c9d9d1be38d3",
      "cell_type": "markdown",
      "source": "| Data Science Tools |\n|----------------------|\n|Jupyter Notebook|\n|Rstudio|\n|Visual Studio Code|",
      "metadata": {}
    },
    {
      "id": "ff100db0-e6d2-407c-9466-388d0335f0c5",
      "cell_type": "markdown",
      "source": "### Below are a few examples of evaluating arithmetic expressions in Python",
      "metadata": {}
    },
    {
      "id": "726f1cbd-2c65-4d3b-ae99-f5b6b9655913",
      "cell_type": "code",
      "source": "# This a simple arithmetic expression to mutiply then add integers\n(3*4)+5",
      "metadata": {
        "trusted": true
      },
      "outputs": [
        {
          "execution_count": 4,
          "output_type": "execute_result",
          "data": {
            "text/plain": "17"
          },
          "metadata": {}
        }
      ],
      "execution_count": 4
    },
    {
      "id": "158a4582-fd14-4757-b7f2-c808987374fd",
      "cell_type": "code",
      "source": "# This will convert 200 minutes to hours by diving by 60\nminutes = 200\nhour = 60\nprint(minutes/hour)",
      "metadata": {
        "trusted": true
      },
      "outputs": [
        {
          "name": "stdout",
          "output_type": "stream",
          "text": "3.3333333333333335\n"
        }
      ],
      "execution_count": 7
    },
    {
      "id": "7f3b6c8a-f233-44a9-b504-8223f6f36d85",
      "cell_type": "markdown",
      "source": "## Author\nKeron Barbour",
      "metadata": {}
    },
    {
      "id": "1fe7b65c-738c-498d-8bf8-ed410a282c42",
      "cell_type": "code",
      "source": "",
      "metadata": {
        "trusted": true
      },
      "outputs": [],
      "execution_count": null
    }
  ]
}